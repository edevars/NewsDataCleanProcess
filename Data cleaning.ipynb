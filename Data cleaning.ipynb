{
 "cells": [
  {
   "cell_type": "markdown",
   "id": "departmental-candle",
   "metadata": {},
   "source": [
    "# Data clean pipeline"
   ]
  },
  {
   "cell_type": "markdown",
   "id": "juvenile-twelve",
   "metadata": {},
   "source": [
    "## Dependencies"
   ]
  },
  {
   "cell_type": "code",
   "execution_count": 19,
   "id": "illegal-score",
   "metadata": {},
   "outputs": [
    {
     "name": "stderr",
     "output_type": "stream",
     "text": [
      "[nltk_data] Downloading package stopwords to\n",
      "[nltk_data]     /home/codevars/nltk_data...\n",
      "[nltk_data]   Package stopwords is already up-to-date!\n",
      "[nltk_data] Downloading package punkt to /home/codevars/nltk_data...\n",
      "[nltk_data]   Package punkt is already up-to-date!\n"
     ]
    },
    {
     "data": {
      "text/plain": [
       "True"
      ]
     },
     "execution_count": 19,
     "metadata": {},
     "output_type": "execute_result"
    }
   ],
   "source": [
    "import nltk\n",
    "import pandas as pd\n",
    "import numpy as np\n",
    "\n",
    "nltk.download('stopwords')\n",
    "nltk.download('punkt')"
   ]
  },
  {
   "cell_type": "markdown",
   "id": "molecular-battlefield",
   "metadata": {},
   "source": [
    "## Importing CSV"
   ]
  },
  {
   "cell_type": "code",
   "execution_count": 20,
   "id": "scientific-rwanda",
   "metadata": {},
   "outputs": [
    {
     "data": {
      "text/plain": [
       "Index(['url', 'title', 'subtitle', 'section', 'author', 'date_time',\n",
       "       'article_text'],\n",
       "      dtype='object')"
      ]
     },
     "execution_count": 20,
     "metadata": {},
     "output_type": "execute_result"
    }
   ],
   "source": [
    "df = pd.read_csv('./eluniversal_sample.csv')\n",
    "del df['location']\n",
    "del df['Unnamed: 8']\n",
    "df.columns"
   ]
  },
  {
   "cell_type": "markdown",
   "id": "together-separation",
   "metadata": {
    "scrolled": true
   },
   "source": [
    "## Removing nulls in article text and section"
   ]
  },
  {
   "cell_type": "code",
   "execution_count": 21,
   "id": "outdoor-collect",
   "metadata": {
    "scrolled": false
   },
   "outputs": [],
   "source": [
    "df = df.dropna(subset=['article_text','section'])"
   ]
  },
  {
   "cell_type": "code",
   "execution_count": 22,
   "id": "opening-regular",
   "metadata": {},
   "outputs": [
    {
     "data": {
      "text/plain": [
       "(488, 7)"
      ]
     },
     "execution_count": 22,
     "metadata": {},
     "output_type": "execute_result"
    }
   ],
   "source": [
    "df.shape"
   ]
  },
  {
   "cell_type": "markdown",
   "id": "lightweight-tolerance",
   "metadata": {},
   "source": [
    "## Tokenizing function"
   ]
  },
  {
   "cell_type": "code",
   "execution_count": 23,
   "id": "recreational-services",
   "metadata": {},
   "outputs": [],
   "source": [
    "import nltk\n",
    "from nltk.corpus import stopwords\n",
    "import re\n",
    "from unicodedata import normalize\n",
    "\n",
    "stop_words = set(stopwords.words('spanish'))\n",
    "\n",
    "\n",
    "def tokenize_column(tokenized_df, column_name):\n",
    "    return (\n",
    "        tokenized_df\n",
    "            .apply(lambda row: nltk.word_tokenize(row[column_name]), axis=1)\n",
    "            .apply(lambda tokens: [token for token in tokens if token.isalpha()])\n",
    "            .apply(lambda tokens: [token.lower() for token in tokens])\n",
    "            .apply(lambda word_list: [word for word in word_list if word not in stop_words])\n",
    "            .apply(lambda word_list: ','.join(word_list))\n",
    "            .apply(lambda answer_string: \n",
    "                       re.sub(\n",
    "                         r\"([^n\\u0300-\\u036f]|n(?!\\u0303(?![\\u0300-\\u036f])))[\\u0300-\\u036f]+\", r\"\\1\", \n",
    "                        normalize(\"NFD\", answer_string), 0, re.I\n",
    "                  )\n",
    "            )\n",
    "    )"
   ]
  },
  {
   "cell_type": "code",
   "execution_count": 24,
   "id": "interim-minneapolis",
   "metadata": {},
   "outputs": [],
   "source": [
    "tokenized_news = tokenize_column(df,'article_text')\n",
    "df['article_text'] = tokenized_news"
   ]
  },
  {
   "cell_type": "code",
   "execution_count": 25,
   "id": "immediate-south",
   "metadata": {
    "scrolled": true
   },
   "outputs": [
    {
     "data": {
      "text/plain": [
       "0      oaxaca,defensoria,derechos,humanos,pueblo,oaxa...\n",
       "1      presidente,andres,manuel,lopez,obrador,informo...\n",
       "2      pese,presidente,andres,manuel,lopez,obrador,di...\n",
       "3      senado,aprobo,ley,organica,fiscalia,general,re...\n",
       "4      nuevo,video,excandidato,presidencial,ricardo,a...\n",
       "                             ...                        \n",
       "494    culiacan,sesion,publica,extraordinaria,congres...\n",
       "495    gobernador,martin,orozco,sandoval,propuso,dar,...\n",
       "496    apagon,comenzo,lunes,febrero,norte,noreste,mex...\n",
       "498    coordinadores,legislativos,pri,prd,camara,dipu...\n",
       "499    municipios,ratificaron,adhesion,mando,coordina...\n",
       "Name: article_text, Length: 488, dtype: object"
      ]
     },
     "execution_count": 25,
     "metadata": {},
     "output_type": "execute_result"
    }
   ],
   "source": [
    "df['article_text']"
   ]
  },
  {
   "cell_type": "markdown",
   "id": "center-sight",
   "metadata": {},
   "source": [
    "## Saving to CSV"
   ]
  },
  {
   "cell_type": "code",
   "execution_count": 26,
   "id": "developmental-monitoring",
   "metadata": {},
   "outputs": [],
   "source": [
    "df.to_csv('clean_news_data.csv');"
   ]
  }
 ],
 "metadata": {
  "kernelspec": {
   "display_name": "Python 3",
   "language": "python",
   "name": "python3"
  },
  "language_info": {
   "codemirror_mode": {
    "name": "ipython",
    "version": 3
   },
   "file_extension": ".py",
   "mimetype": "text/x-python",
   "name": "python",
   "nbconvert_exporter": "python",
   "pygments_lexer": "ipython3",
   "version": "3.8.8"
  }
 },
 "nbformat": 4,
 "nbformat_minor": 5
}
